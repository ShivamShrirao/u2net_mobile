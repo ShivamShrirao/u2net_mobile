{
 "cells": [
  {
   "cell_type": "code",
   "execution_count": 1,
   "id": "532fb903",
   "metadata": {},
   "outputs": [],
   "source": [
    "from PIL import Image\n",
    "import torch\n",
    "import torch.nn.functional as F\n",
    "from torch.cuda import amp\n",
    "import numpy as np\n",
    "from torch.utils.mobile_optimizer import optimize_for_mobile"
   ]
  },
  {
   "cell_type": "code",
   "execution_count": 2,
   "id": "f89e0ee4",
   "metadata": {},
   "outputs": [],
   "source": [
    "from remove_bg_utils import load_checkpoint_mgpu\n",
    "from remove_bg_utils import U2NET"
   ]
  },
  {
   "cell_type": "code",
   "execution_count": 3,
   "id": "92815bb7",
   "metadata": {},
   "outputs": [
    {
     "name": "stdout",
     "output_type": "stream",
     "text": [
      "----checkpoints loaded from path: outer_100k.pth----\n"
     ]
    }
   ],
   "source": [
    "rbg_720 = U2NET(in_ch=3, out_ch=1)\n",
    "rbg_720 = load_checkpoint_mgpu(rbg_720, \"outer_100k.pth\")"
   ]
  },
  {
   "cell_type": "code",
   "execution_count": 4,
   "id": "9ab6b428",
   "metadata": {},
   "outputs": [],
   "source": [
    "data = torch.randn(1, 3, 720, 720)\n",
    "im = Image.open(\"ImageSegmentation/app/src/main/assets/car.jpg\")\n",
    "imarr = np.array(im)\n",
    "data = torch.from_numpy(imarr[None])\n",
    "data = data.permute(0,3,1,2).to(torch.float)"
   ]
  },
  {
   "cell_type": "code",
   "execution_count": 5,
   "id": "bea23ede",
   "metadata": {},
   "outputs": [],
   "source": [
    "class WrappedModel(torch.nn.Module):\n",
    "    def __init__(self, model):\n",
    "        super().__init__()\n",
    "        self.model = model\n",
    "\n",
    "    @torch.inference_mode()\n",
    "    def forward(self, data):\n",
    "        data = data.div(127.5).sub_(1.)\n",
    "        x = torch.sigmoid_(self.model(data)[0])\n",
    "        return x.mul_(255.)"
   ]
  },
  {
   "cell_type": "code",
   "execution_count": 6,
   "id": "198fcebc",
   "metadata": {},
   "outputs": [],
   "source": [
    "wrp_model = WrappedModel(rbg_720).eval()"
   ]
  },
  {
   "cell_type": "code",
   "execution_count": 7,
   "id": "839e77b7",
   "metadata": {},
   "outputs": [
    {
     "name": "stderr",
     "output_type": "stream",
     "text": [
      "/usr/lib/python3.10/site-packages/torch/nn/functional.py:780: UserWarning: Note that order of the arguments: ceil_mode and return_indices will changeto match the args list in nn.MaxPool2d in a future release.\n",
      "  warnings.warn(\"Note that order of the arguments: ceil_mode and return_indices will change\"\n",
      "/usr/lib/python3.10/site-packages/torch/nn/functional.py:3704: UserWarning: nn.functional.upsample is deprecated. Use nn.functional.interpolate instead.\n",
      "  warnings.warn(\"nn.functional.upsample is deprecated. Use nn.functional.interpolate instead.\")\n"
     ]
    }
   ],
   "source": [
    "traced_script_module = torch.jit.trace(wrp_model, data)"
   ]
  },
  {
   "cell_type": "code",
   "execution_count": 8,
   "id": "d861c7f2",
   "metadata": {},
   "outputs": [],
   "source": [
    "torchscript_model_optimized = optimize_for_mobile(traced_script_module)"
   ]
  },
  {
   "cell_type": "code",
   "execution_count": 12,
   "id": "17ec59b3",
   "metadata": {},
   "outputs": [],
   "source": [
    "torchscript_model_optimized._save_for_lite_interpreter(\"ImageSegmentation/app/src/main/assets/u2net_exp.ptl\")"
   ]
  },
  {
   "cell_type": "code",
   "execution_count": 10,
   "id": "e00f1559",
   "metadata": {},
   "outputs": [
    {
     "name": "stderr",
     "output_type": "stream",
     "text": [
      "/usr/lib/python3.10/site-packages/torch/nn/modules/module.py:1110: UserWarning: Named tensors and all their associated APIs are an experimental feature and subject to change. Please do not use them for anything important until they are released as stable. (Triggered internally at  /build/python-pytorch/src/pytorch-1.11.0-cuda/c10/core/TensorImpl.h:1460.)\n",
      "  return forward_call(*input, **kwargs)\n"
     ]
    }
   ],
   "source": [
    "o = torchscript_model_optimized(data)"
   ]
  },
  {
   "cell_type": "code",
   "execution_count": 11,
   "id": "5c1770bc",
   "metadata": {},
   "outputs": [
    {
     "data": {
      "image/png": "[encoded data removed]",
      "text/plain": [
       "<PIL.Image.Image image mode=L size=720x720 at 0x7FCF90EFB790>"
      ]
     },
     "execution_count": 11,
     "metadata": {},
     "output_type": "execute_result"
    }
   ],
   "source": [
    "Image.fromarray(o.to(torch.uint8).cpu().numpy().squeeze())"
   ]
  },
  {
   "cell_type": "code",
   "execution_count": null,
   "id": "bd0fc3f8",
   "metadata": {},
   "outputs": [],
   "source": []
  }
 ],
 "metadata": {
  "kernelspec": {
   "display_name": "Python 3 (ipykernel)",
   "language": "python",
   "name": "python3"
  },
  "language_info": {
   "codemirror_mode": {
    "name": "ipython",
    "version": 3
   },
   "file_extension": ".py",
   "mimetype": "text/x-python",
   "name": "python",
   "nbconvert_exporter": "python",
   "pygments_lexer": "ipython3",
   "version": "3.10.3"
  }
 },
 "nbformat": 4,
 "nbformat_minor": 5
}
